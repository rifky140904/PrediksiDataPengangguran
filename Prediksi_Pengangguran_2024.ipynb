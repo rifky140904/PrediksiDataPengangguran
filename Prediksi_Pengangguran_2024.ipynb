{
 "cells": [
  {
   "cell_type": "markdown",
   "metadata": {},
   "source": [
    "# Prediksi Tingkat Pengangguran Terbuka (TPT) di Indonesia"
   ]
  },
  {
   "cell_type": "code",
   "execution_count": 1,
   "metadata": {},
   "outputs": [],
   "source": [
    "# Pendefinisian fungsi dan kelas yang digunakan"
   ]
  },
  {
   "cell_type": "code",
   "execution_count": 2,
   "metadata": {},
   "outputs": [],
   "source": [
    "# Import library keras dan lain-lain\n",
    "import numpy as np # For matrix math\n",
    "from numpy import loadtxt\n",
    "from keras_models.models import Sequential\n",
    "import matplotlib.pyplot as plt # For plotting\n",
    "import keras\n",
    "from keras.utils import to_categorical\n",
    "from keras.layers import Flatten, Dense, Activation\n",
    "from IPython.display import clear_output"
   ]
  },
  {
   "cell_type": "markdown",
   "metadata": {},
   "source": [
    "# Normalisasi Data\n",
    "\n",
    "![normasilisasi_data](normalisasi.jpg)\n"
   ]
  },
  {
   "cell_type": "code",
   "execution_count": 3,
   "metadata": {},
   "outputs": [],
   "source": [
    "def normalisasi(x):\n",
    "    a = np.max(x)\n",
    "    b = np.min(x)\n",
    "    for i in x:\n",
    "        hasil_normalisasi = (0.8 * (x - b))/(a-b) + 0.1\n",
    "    return hasil_normalisasi"
   ]
  },
  {
   "cell_type": "code",
   "execution_count": 4,
   "metadata": {},
   "outputs": [],
   "source": [
    "# load the data latih\n",
    "# Data Tingkat Pengangguran Terbuka (TPT) mulai Tahun 2001 \n",
    "# sampai dengan Tahun 2024\n",
    "\n",
    "TPT = loadtxt('data_pengangguran.csv', delimiter=',')\n",
    "TPT_normal = normalisasi(TPT)\n",
    "\n",
    "TPT_Target = TPT[:,10]\n",
    "TPT_Target_Uji = TPT[:,11]\n",
    "\n",
    "# DATA PELATIHAN =================================\n",
    "# Data dibagi menjadi 10 variabel input (X) dan 1 variabel output (Y)\n",
    "# Input : mulai tahun 2001 sampai tahun 2020\n",
    "\n",
    "X = TPT_normal[:,0:10]\n",
    "\n",
    "# Output : data TPT tahun 2021 dan 2022\n",
    "\n",
    "Y = TPT_normal[:,10]\n",
    "\n",
    "# DATA UJI PREDIKSI=================================\n",
    "# Geser  dua tahun ke depan\n",
    "# Input : mulai tahun 2003 sampai tahun 2022\n",
    "# Untuk memprediksi TPT Tahun 2023 dan 2024\n",
    "\n",
    "X1 = TPT_normal[:,1:11]\n",
    "\n",
    "# Urut tahun, menggantikan indeks dari 0 s.d 1\n",
    "urut = [1,\n",
    "       2\n",
    "       ]\n"
   ]
  },
  {
   "cell_type": "code",
   "execution_count": 5,
   "metadata": {},
   "outputs": [
    {
     "name": "stdout",
     "output_type": "stream",
     "text": [
      "[[ 8.1   9.67 10.75  9.43  8.01  7.22  6.03  5.99  5.42  5.11  6.38  5.39]\n",
      " [ 9.06  9.86 10.36  8.43  7.28  6.25  5.82  5.56  5.2   6.01  5.85  4.82]]\n"
     ]
    }
   ],
   "source": [
    "print(TPT)"
   ]
  },
  {
   "cell_type": "code",
   "execution_count": 6,
   "metadata": {},
   "outputs": [
    {
     "name": "stdout",
     "output_type": "stream",
     "text": [
      "[[0.54249578 0.75430017 0.9        0.72192243 0.53035413 0.4237774\n",
      "  0.26323777 0.25784148 0.18094435 0.1391231  0.31045531 0.17689713]\n",
      " [0.67200675 0.77993255 0.84738617 0.58701518 0.43187184 0.29291737\n",
      "  0.23490725 0.19983137 0.15126476 0.26053963 0.23895447 0.1       ]]\n"
     ]
    }
   ],
   "source": [
    "TPT_normal = normalisasi(TPT)\n",
    "print(TPT_normal)"
   ]
  },
  {
   "cell_type": "code",
   "execution_count": 7,
   "metadata": {},
   "outputs": [
    {
     "name": "stdout",
     "output_type": "stream",
     "text": [
      "barisnya = 2\n",
      "kolomnya = 12\n"
     ]
    }
   ],
   "source": [
    "baris, kolom = TPT.shape\n",
    "print(\"barisnya =\",baris)\n",
    "print(\"kolomnya =\",kolom)"
   ]
  },
  {
   "cell_type": "code",
   "execution_count": 8,
   "metadata": {},
   "outputs": [
    {
     "name": "stdout",
     "output_type": "stream",
     "text": [
      "barisnya = 2\n",
      "kolomnya = 12\n"
     ]
    }
   ],
   "source": [
    "baris, kolom = TPT_normal.shape\n",
    "print(\"barisnya =\",baris)\n",
    "print(\"kolomnya =\",kolom)"
   ]
  },
  {
   "cell_type": "markdown",
   "metadata": {},
   "source": [
    "Masukan Jaringan X"
   ]
  },
  {
   "cell_type": "code",
   "execution_count": 9,
   "metadata": {},
   "outputs": [
    {
     "name": "stdout",
     "output_type": "stream",
     "text": [
      "barisnya = 2\n",
      "kolomnya = 10\n"
     ]
    }
   ],
   "source": [
    "baris, kolom = X.shape\n",
    "print(\"barisnya =\",baris)\n",
    "print(\"kolomnya =\",kolom)"
   ]
  },
  {
   "cell_type": "code",
   "execution_count": 10,
   "metadata": {},
   "outputs": [],
   "source": [
    "from keras.models import Sequential\n",
    "from keras.layers import Dense, Input\n",
    "\n",
    "# Mendefinisikan model keras\n",
    "model = Sequential()\n",
    "model.add(Input(shape=(10,)))  # Lapisan Input sebagai lapisan pertama\n",
    "model.add(Dense(10, activation='relu'))\n",
    "model.add(Dense(10, activation='relu'))\n",
    "model.add(Dense(10, activation='relu'))\n",
    "model.add(Dense(1, activation='sigmoid'))\n"
   ]
  },
  {
   "cell_type": "code",
   "execution_count": 11,
   "metadata": {},
   "outputs": [],
   "source": [
    "# Proses kompilasi (pelatihan) Deep Learning\n",
    "model.compile(loss='mean_squared_error', optimizer='adam', metrics=['mean_squared_error'])"
   ]
  },
  {
   "cell_type": "code",
   "execution_count": 12,
   "metadata": {},
   "outputs": [],
   "source": [
    "class PlotLosses(keras.callbacks.Callback):\n",
    "    def on_train_begin(self, logs={}):\n",
    "        self.i = 0\n",
    "        self.x = []\n",
    "        self.losses = []\n",
    "        self.val_losses = []\n",
    "        \n",
    "        self.fig = plt.figure()\n",
    "        \n",
    "        self.logs = []\n",
    "\n",
    "    def on_epoch_end(self, epoch, logs={}):\n",
    "        \n",
    "        self.logs.append(logs)\n",
    "        self.x.append(self.i)\n",
    "        self.losses.append(logs.get('loss'))\n",
    "        self.val_losses.append(logs.get('val_loss'))\n",
    "        self.i += 1\n",
    "        \n",
    "        clear_output(wait=True)\n",
    "        plt.plot(self.x, self.losses, label=\"loss\")\n",
    "        plt.plot(self.x, self.val_losses, label=\"val_loss\")\n",
    "        plt.legend()\n",
    "        plt.grid()\n",
    "        plt.xlabel('epoch')\n",
    "        plt.ylabel('loss')\n",
    "        plt.show();\n",
    "        \n",
    "plot_losses = PlotLosses()"
   ]
  },
  {
   "cell_type": "code",
   "execution_count": 13,
   "metadata": {},
   "outputs": [
    {
     "data": {
      "image/png": "[encoded data removed]",
      "text/plain": [
       "<Figure size 640x480 with 1 Axes>"
      ]
     },
     "metadata": {},
     "output_type": "display_data"
    },
    {
     "data": {
      "text/plain": [
       "<keras.src.callbacks.history.History at 0x20037eac710>"
      ]
     },
     "execution_count": 13,
     "metadata": {},
     "output_type": "execute_result"
    }
   ],
   "source": [
    "model.fit(X, Y,\n",
    "          epochs=500,\n",
    "          validation_data=(X, Y),\n",
    "          callbacks=[plot_losses],\n",
    "          verbose=0)"
   ]
  },
  {
   "cell_type": "code",
   "execution_count": 14,
   "metadata": {},
   "outputs": [
    {
     "name": "stdout",
     "output_type": "stream",
     "text": [
      "\u001b[1m2/2\u001b[0m \u001b[32m━━━━━━━━━━━━━━━━━━━━\u001b[0m\u001b[37m\u001b[0m \u001b[1m0s\u001b[0m 8ms/step - loss: 1.7531e-04 - mean_squared_error: 1.7531e-04 \n",
      "MSE : 0.00\n"
     ]
    }
   ],
   "source": [
    "# evaluate the keras model\n",
    "# Evalusi hasil proses pelatihan Deep Learning\n",
    "# Hitung akurasi hasil pelatihan dalam bentuk Prosentase Keberhasilan\n",
    "# Prosentase Keberhasilan = 100 - MAPE\n",
    "\n",
    "#_, MAPE_pelatihan = model.evaluate(X_normal, Y_normal, batch_size=1)\n",
    "\n",
    "_, MSE = model.evaluate(X, Y, batch_size=1)\n",
    "\n",
    "#print('Prosentase_keberhasilan: %.2f' % (100-MAPE_pelatihan))\n",
    "\n",
    "print('MSE : %.2f' % (MSE))\n"
   ]
  },
  {
   "cell_type": "code",
   "execution_count": 15,
   "metadata": {},
   "outputs": [
    {
     "name": "stdout",
     "output_type": "stream",
     "text": [
      "\u001b[1m1/1\u001b[0m \u001b[32m━━━━━━━━━━━━━━━━━━━━\u001b[0m\u001b[37m\u001b[0m \u001b[1m0s\u001b[0m 48ms/step\n",
      "[[0.29774764]\n",
      " [0.25320056]]\n"
     ]
    }
   ],
   "source": [
    "# menjalankan fungsi prediksi\n",
    "y_pred = model.predict(X)\n",
    "print(y_pred)"
   ]
  },
  {
   "cell_type": "code",
   "execution_count": 16,
   "metadata": {},
   "outputs": [
    {
     "name": "stdout",
     "output_type": "stream",
     "text": [
      "y_prediksi = [[6.2858047]\n",
      " [5.9555993]]\n"
     ]
    }
   ],
   "source": [
    "# Denormalisasi Data sebelum dibandngkan\n",
    "\n",
    "a = np.max(TPT)\n",
    "b = np.min(TPT)\n",
    "\n",
    "# Rumus\n",
    "# x_denormalisasi = (((x_normalisasi - 0.1)*(a - b))/0.8) + b\n",
    "\n",
    "y_prediksi = (((y_pred - 0.1)*(a - b))/0.8) + b\n",
    "\n",
    "print(\"y_prediksi =\", y_prediksi)"
   ]
  },
  {
   "cell_type": "code",
   "execution_count": 17,
   "metadata": {},
   "outputs": [],
   "source": [
    "# Urut tahun, menggantikan indeks dari 0 s.d 1\n",
    "urutan1 = ['2021',\n",
    "       '2022'\n",
    "       ]"
   ]
  },
  {
   "cell_type": "code",
   "execution_count": 18,
   "metadata": {},
   "outputs": [
    {
     "data": {
      "image/png": "[encoded data removed]",
      "text/plain": [
       "<Figure size 640x480 with 1 Axes>"
      ]
     },
     "metadata": {},
     "output_type": "display_data"
    }
   ],
   "source": [
    "# Plot Keluaran Hasil Prediksi Tahap Pelatihan\n",
    "\n",
    "plt.title('Keluaran Hasil Prediksi Tahap Pelatihan')\n",
    "plt.plot(urutan1, TPT_Target, '-b', label='Target',linewidth=3, markersize=12)\n",
    "plt.plot(urutan1, y_prediksi, '--r', label='Prediksi', linewidth=3, markersize=12)\n",
    "plt.legend();\n",
    "plt.xlabel('Tahun')\n",
    "plt.ylabel('TPT (%)')\n",
    "plt.ylim((2,8))\n",
    "plt.grid()"
   ]
  },
  {
   "cell_type": "code",
   "execution_count": 19,
   "metadata": {},
   "outputs": [
    {
     "data": {
      "image/png": "[encoded data removed]",
      "text/plain": [
       "<Figure size 640x480 with 1 Axes>"
      ]
     },
     "metadata": {},
     "output_type": "display_data"
    }
   ],
   "source": [
    "# Plot Kesalahan Prediksi\n",
    "\n",
    "selisih = TPT_Target - y_prediksi.transpose()\n",
    "plt.title('Kesalahan Prediksi Tahap Pelatihan')\n",
    "plt.plot(urutan1, selisih.transpose(), '-m', label='error', linewidth=3, markersize=12)\n",
    "plt.legend();\n",
    "plt.xlabel('Tahun')\n",
    "plt.ylabel('TPT (%)')\n",
    "plt.ylim((-2.5,2.5))\n",
    "plt.grid()"
   ]
  },
  {
   "cell_type": "code",
   "execution_count": 20,
   "metadata": {
    "scrolled": true
   },
   "outputs": [
    {
     "name": "stdout",
     "output_type": "stream",
     "text": [
      "mse = 0.010011979625771557\n",
      "rmse = 0.10005988020066563\n",
      "MAPE = 4.345808315228553\n",
      "Persentase_keberhasilan = 95.65419168477145\n"
     ]
    }
   ],
   "source": [
    "# Pengukuran kinerja Deep Learning\n",
    "\n",
    "from sklearn.metrics import mean_squared_error\n",
    "from math import sqrt\n",
    "mse  = mean_squared_error(TPT_Target, y_prediksi)\n",
    "rmse = sqrt(mse)\n",
    "print(\"mse =\",mse)\n",
    "print(\"rmse =\",rmse)\n",
    "\n",
    "def mean_absolute_percentage_error(y_true, y_pred):\n",
    "    y_true, y_pred = np.array(y_true), np.array(y_pred)\n",
    "    return np.mean(np.abs((y_true - y_pred) / y_true)) * 100\n",
    "\n",
    "MAPE = mean_absolute_percentage_error(TPT_Target, y_prediksi)\n",
    "print(\"MAPE =\",MAPE)\n",
    "\n",
    "Persentase_keberhasilan = 100-MAPE\n",
    "print(\"Persentase_keberhasilan =\", Persentase_keberhasilan)"
   ]
  },
  {
   "cell_type": "markdown",
   "metadata": {},
   "source": [
    "# Prediksi TPT\n",
    "# Tahap Pengujian\n",
    "\n",
    "Input : mulai tahun 2003 sampai tahun 2022\n",
    "\n",
    "Untuk Memprediksi TPT di Tahun 2023 dan 2024"
   ]
  },
  {
   "cell_type": "code",
   "execution_count": 21,
   "metadata": {},
   "outputs": [],
   "source": [
    "# Urut tahun, menggantikan indeks dari 0 s.d 1\n",
    "urutan2 = ['2023',\n",
    "       '2024'\n",
    "       ]"
   ]
  },
  {
   "cell_type": "code",
   "execution_count": 22,
   "metadata": {},
   "outputs": [
    {
     "name": "stdout",
     "output_type": "stream",
     "text": [
      "\u001b[1m1/1\u001b[0m \u001b[32m━━━━━━━━━━━━━━━━━━━━\u001b[0m\u001b[37m\u001b[0m \u001b[1m0s\u001b[0m 22ms/step\n",
      "Hasil prediksi sebelum denormalisasi = [[0.24241199]\n",
      " [0.2560607 ]]\n"
     ]
    }
   ],
   "source": [
    "# Ujicoba prediksi\n",
    "y_uji = model.predict(X1)\n",
    "print('Hasil prediksi sebelum denormalisasi =', y_uji)"
   ]
  },
  {
   "cell_type": "code",
   "execution_count": 23,
   "metadata": {},
   "outputs": [
    {
     "name": "stdout",
     "output_type": "stream",
     "text": [
      "y_pengujian = [[5.875629]\n",
      " [5.9768  ]]\n"
     ]
    }
   ],
   "source": [
    "# Denormalisasi Data sebelum dibandngkan\n",
    "\n",
    "a = np.max(TPT)\n",
    "b = np.min(TPT)\n",
    "\n",
    "# Rumus\n",
    "# x_denormalisasi = (((x_normalisasi - 0.1)*(a - b))/0.8) + b\n",
    "\n",
    "y_pengujian = (((y_uji - 0.1)*(a - b))/0.8) + b\n",
    "\n",
    "print(\"y_pengujian =\", y_pengujian)"
   ]
  },
  {
   "cell_type": "code",
   "execution_count": 24,
   "metadata": {},
   "outputs": [
    {
     "data": {
      "image/png": "[encoded data removed]",
      "text/plain": [
       "<Figure size 640x480 with 1 Axes>"
      ]
     },
     "metadata": {},
     "output_type": "display_data"
    }
   ],
   "source": [
    "# Plot keluaran hasil prediksi Tahap Pengujian\n",
    "\n",
    "plt.title('Hasil Prediksi Tahap Pengujian')\n",
    "plt.plot(urutan2,  TPT_Target_Uji, '-b', label='Yang diinginkan',linewidth=3, markersize=12)\n",
    "plt.plot(urutan2, y_pengujian, '--r', label='Prediksi', linewidth=3, markersize=12)\n",
    "plt.legend();\n",
    "plt.xlabel('Tahun')\n",
    "plt.ylabel('TPT (%)')\n",
    "plt.ylim((0,10))\n",
    "plt.grid()"
   ]
  },
  {
   "cell_type": "code",
   "execution_count": 25,
   "metadata": {},
   "outputs": [
    {
     "data": {
      "image/png": "[encoded data removed]",
      "text/plain": [
       "<Figure size 640x480 with 1 Axes>"
      ]
     },
     "metadata": {},
     "output_type": "display_data"
    }
   ],
   "source": [
    "# Plot kesalahan prediksi Tahap Pengujian\n",
    "\n",
    "selisih_pengujian = TPT_Target_Uji - y_pengujian.transpose()\n",
    "plt.title('Kesalahan Prediksi Tahap Pengujian')\n",
    "plt.plot(urutan2, selisih_pengujian.transpose(), '-m', label='error', linewidth=3, markersize=12)\n",
    "plt.legend();\n",
    "plt.xlabel('Tahun')\n",
    "plt.ylabel('TPT (%)')\n",
    "plt.ylim((-7,7))\n",
    "plt.grid()"
   ]
  },
  {
   "cell_type": "code",
   "execution_count": 26,
   "metadata": {},
   "outputs": [
    {
     "name": "stdout",
     "output_type": "stream",
     "text": [
      "mse = 0.7870108170724424\n",
      "rmse = 0.8871363012933482\n",
      "MAPE = 16.449413778126665\n",
      "Persentase_keberhasilan = 83.55058622187333\n"
     ]
    }
   ],
   "source": [
    "# Pengukuran kinerja Deep Learning Tahap Pengujian\n",
    "\n",
    "from sklearn.metrics import mean_squared_error\n",
    "from math import sqrt\n",
    "mse1  = mean_squared_error(TPT_Target_Uji, y_pengujian)\n",
    "rmse1 = sqrt(mse1)\n",
    "print(\"mse =\",mse1)\n",
    "print(\"rmse =\",rmse1)\n",
    "\n",
    "MAPE = mean_absolute_percentage_error(TPT_Target_Uji, y_pengujian)\n",
    "print(\"MAPE =\",MAPE)\n",
    "\n",
    "Persentase_keberhasilan = 100-MAPE\n",
    "print(\"Persentase_keberhasilan =\", Persentase_keberhasilan)"
   ]
  },
  {
   "cell_type": "code",
   "execution_count": null,
   "metadata": {},
   "outputs": [],
   "source": []
  }
 ],
 "metadata": {
  "kernelspec": {
   "display_name": "Python 3 (ipykernel)",
   "language": "python",
   "name": "python3"
  },
  "language_info": {
   "codemirror_mode": {
    "name": "ipython",
    "version": 3
   },
   "file_extension": ".py",
   "mimetype": "text/x-python",
   "name": "python",
   "nbconvert_exporter": "python",
   "pygments_lexer": "ipython3",
   "version": "3.11.0"
  }
 },
 "nbformat": 4,
 "nbformat_minor": 4
}
